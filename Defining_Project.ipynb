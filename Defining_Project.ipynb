{
 "cells": [
  {
   "cell_type": "markdown",
   "metadata": {},
   "source": [
    "**Instructions**\n",
    "1. Make sure your project is related to the business of the companies you are interested in.\n",
    "2. The project should not only be helpful to the employer's business, but also compatible with the existing tools they are using.\n",
    "2. Don’t spend time in generating brand-new ideas. Using mature methods to solve specific problem is more preferred.\n",
    "3. Don’t try to build a perfect project. Start with a Minimum Viable Product. Resources are always limited."
   ]
  },
  {
   "cell_type": "markdown",
   "metadata": {},
   "source": [
    "<font color='red'>**Question:**</font> What is the problem you would like to solve? Why is it important?"
   ]
  },
  {
   "cell_type": "markdown",
   "metadata": {},
   "source": [
    "**Example**: In direct mail marketing, tens of millions of mails are sent to potential customers. Only a very small fraction of the mail receivers respond. Most of mails are thrown into recycle bins directly. If we are able to accurately identify people who will possibly respond. We can save money in direct mail marketing or accquire more customers with given resources."
   ]
  },
  {
   "cell_type": "code",
   "execution_count": null,
   "metadata": {},
   "outputs": [],
   "source": [
    "# A large proportion of hotel reservations made through online channels are cancelled or result in no-shows, which can be \n",
    "# detrimental to hotel revenue. Although cancellations may seem convenient for guests, they are not desirable for hotels. To \n",
    "# address this issue, we aim to develop a method to identify customers who are likely to cancel their reservations and identify \n",
    "# the factors that contribute to customer churn. Understanding these factors will allow businesses to take proactive steps to \n",
    "# address customer concerns, improve their satisfaction, and reduce the rate of customer churn. By doing so, hotels can \n",
    "# increase customer loyalty and ultimately generate higher profits."
   ]
  },
  {
   "cell_type": "markdown",
   "metadata": {},
   "source": [
    "<font color='red'>**Question:**</font> How to measure the business value of your solution? What is the benchmark?"
   ]
  },
  {
   "cell_type": "markdown",
   "metadata": {},
   "source": [
    "**Example**: If our goal is saving money in direct mail marketing, the benchmark could be the current situtation in which we send mail to all the people in an area. Let's assume there are a million families in this area, only 0.1% of the people respond, and each mail costs 10 cents. If our model can successfully filter out half of the people who won't respond, we can save 50,000 dollars for each time."
   ]
  },
  {
   "cell_type": "code",
   "execution_count": null,
   "metadata": {},
   "outputs": [],
   "source": [
    " # The hotel cancelling rate affects the revenue in several different ways:\n",
    "# 1. Cancelling (expecially last-minute cancels or no-shows) will lower occupacy, leading to lower revenue.\n",
    "# 2. Regular cancelling will make the hotel's ranking drop in the Online Travel Agency(OTA), thus reducing the hotel's \n",
    "# competency against peers, resulting lower booking rate/prices, or higher marketing costs.\n",
    "# 3. Cancellations create additional work and unnecessary stress, leading higher costs.\n",
    "\n",
    "# The benchmark methods (without machine learning) to reduce cancelling/ losts by cancelling include:\n",
    "# 1. Set Discounted or Advance Purchase Rates (sometimes goes with prepaid or restrictions on late cancelling).\n",
    "# 2. Adopt A Cautious Overbooking Strategy (for large property)\n",
    "# 3. Other methods that actively prevent cancelling, or reducing last-minute cancels and no-shows so reselling is possible \n",
    "# (like sending email reminders, be proactive and responsive to customer's needs).\n",
    "# 4. Other methods to prevent reckless or fraudulent booking that leads to cancelling (like solid cancelling policy, \n",
    "# use length of stay restrictions).\n",
    "\n",
    "# The machine learning model can help predicting whether a customer will cancel or not, and identifying the possible reasons\n",
    "# affecting her/his decision. So we can better determine price/policy based on certain feactures (like lead time, stay \n",
    "# duration etc), deciding overbooking strategy (based on the predicted stay possiblity of all customers, the dates, etc.), and\n",
    "# use targeted communication strategy based on certain feactures (like traveling type, special needs, # of indepedents, etc.)\n",
    "\n",
    "# For example, a hotel has 300 rooms and each room makes an averaged daily profit of $50.00 if occupied. The cancelling rate is \n",
    "# 10% (devided by the overall room #) by the benchmark methods. Each cancelling is also associated with a cost of $25.00 \n",
    "# (by ranking drop in OTA, additional works, etc.). So the monthly revenue lost was 300 (rooms) * 10% * ($50 + $25) * 30 (days\n",
    "# = $67,500. If by a machine learning model leads to better strategy and reduces the cancelling rate to 5%. Let's assume the \n",
    "# deployment of the strategy is $15 (targeted price incentives, cost for targeted communication, etc). The extra monthly \n",
    "# revenue lead by the machine learning model is 300 * 5% * ($50 + $25 - $15) * 30 = $27,000. \n"
   ]
  },
  {
   "cell_type": "markdown",
   "metadata": {},
   "source": [
    "<font color='red'>**Question:**</font> What are the metrics you will use? Why?"
   ]
  },
  {
   "cell_type": "markdown",
   "metadata": {},
   "source": [
    "**Example**: We can use AUC-ROC for model training. We will use precision and recall to measure our models, keep recall close to 100%, and maximize precision at the same time. If we can't keep recall as 100%, we need to consider the value of each customer and calculate the loss."
   ]
  },
  {
   "cell_type": "code",
   "execution_count": null,
   "metadata": {},
   "outputs": [],
   "source": [
    "# For model selection, we will be using AUC-ROC, which is a metric that can measure a model's ability to distinguish between \n",
    "# two classes, independent of the data scale and classification threshold. Once we have obtained a high-performing predictive \n",
    "# model, we will extract the key features for predicting customer behavior and provide recommendations to stakeholders on how \n",
    "# to reduce cancellation rates. To determine the optimal threshold of the selected classifier, we will also utilize the AUC-ROC \n",
    "# curve. Our primary concern is accurately identifying customers who may cancel their reservations, therefore, we aim to keep \n",
    "# the recall score as close to 100% as possible, while maximizing the precision score at the same time."
   ]
  },
  {
   "cell_type": "markdown",
   "metadata": {},
   "source": [
    "<font color='red'>**Question:**</font> What data do you need? How will you get the data?"
   ]
  },
  {
   "cell_type": "markdown",
   "metadata": {},
   "source": [
    "**Example**: Direct mail marketing data is very hard to get. So it is not suitable to be a keystone project. Make sure you are able to get the data you need before you decide to work on a project. Here are some sources to get data:  \n",
    "1. House price data from Zillow, rent price from Craigslist, resteraunt review from Yelp, product review from Amazon, etc.\n",
    "2. Some companies provide APIs like Twitter (https://developer.twitter.com/en/docs)\n",
    "3. Quite some datasets are available on Kaggle (https://www.kaggle.com/datasets)"
   ]
  },
  {
   "cell_type": "code",
   "execution_count": null,
   "metadata": {},
   "outputs": [],
   "source": [
    "# Hotel Reservations Dataset from Kaggle: \n",
    "# https://www.kaggle.com/datasets/ahsan81/hotel-reservations-classification-dataset?resource=download"
   ]
  },
  {
   "cell_type": "markdown",
   "metadata": {},
   "source": [
    "<font color='red'>**Question:**</font> What algorithms will you choose for this project? Why?"
   ]
  },
  {
   "cell_type": "markdown",
   "metadata": {},
   "source": [
    "**Example**: We will use Random Forest as a benchmark algorithm, because it is very stable and able to handle nonlinear relationship between features and target. But eventually, we will use Logistic Regression with created features, because we need to keep the model interpretable to communicate with the marketing team."
   ]
  },
  {
   "cell_type": "code",
   "execution_count": null,
   "metadata": {},
   "outputs": [],
   "source": [
    "# There are a number of algorithms that can be used for predicting hotel cancellations, but two commonly used options are \n",
    "# logistic regression and decision trees. In terms of feature importance, we can employ techniques like permutation importance \n",
    "# or feature importances from tree-based models.\n",
    "\n",
    "# Logistic regression is a linear model that is both easy to interpret and able to handle numerical and categorical features. \n",
    "# It assumes a linear relationship between the features and target variable, making it suitable for situations where the \n",
    "# relationship is relatively simple and can be described by a linear function. It is also computationally efficient and able to \n",
    "# process large datasets. However, logistic regression may not perform as well in cases where there are nonlinear relationships \n",
    "# between the features and target variable.\n",
    "\n",
    "# On the other hand, decision trees are a nonlinear model that can handle both numerical and categorical features. They can \n",
    "# capture nonlinear relationships between the features and target variable and account for interactions between features. \n",
    "# Decision trees are also simple to interpret and can handle missing values. However, decision trees can be prone to \n",
    "# overfitting, especially when the tree is deep, and may not generalize well to new data.\n",
    "\n",
    "# To determine the importance of features, we can use permutation importance, which is a widely used technique that can be \n",
    "# applied to any model. This involves permuting the values of a feature and then measuring the resulting decrease in the \n",
    "# model's performance. The greater the decrease, the more important the feature is deemed to be. Alternatively, we can use \n",
    "# feature importances from tree-based models like random forests or gradient boosting, which measure the number of times a \n",
    "# feature is used in the tree and the corresponding decrease in impurity.\n",
    "\n",
    "# We can evaluate the performance of the models using metrics such as accuracy, precision, recall, and F1 score, and can use \n",
    "# cross-validation to estimate their performance on new data. Logistic regression may be a suitable choice when there is a \n",
    "# simple, linear relationship between the features and target variable, whereas decision trees may be more effective in cases \n",
    "# where there are nonlinear relationships between the features and target variable.\n",
    "\n",
    "# To determine feature importance, both permutation importance and feature importances from tree-based models can be used, \n",
    "# although permutation importance is a more versatile technique that can be applied to any model. It is worth noting that while \n",
    "# these techniques may yield similar results in terms of feature importance, permutation importance can be more broadly applied."
   ]
  },
  {
   "cell_type": "markdown",
   "metadata": {},
   "source": [
    "<font color='red'>**Question:**</font> What will be the input and output?"
   ]
  },
  {
   "cell_type": "markdown",
   "metadata": {},
   "source": [
    "**Example**: The input would be the information of people (if available) such as zipcode, household income, age, etc. The output will be 1 (will respond) or 0 (won't respond)."
   ]
  },
  {
   "cell_type": "markdown",
   "metadata": {},
   "source": [
    "Inputs:\n",
    "\n",
    "no_of_adults: Number of adults\n",
    "no_of_children: Number of Children\n",
    "no_of_weekend_nights: Number of weekend nights (Saturday or Sunday) the guest stayed or booked to stay at the hotel\n",
    "no_of_week_nights: Number of week nights (Monday to Friday) the guest stayed or booked to stay at the hotel\n",
    "type_of_meal_plan: Type of meal plan booked by the customer\n",
    "required_car_parking_space: Does the customer require a car parking space? (0 - No, 1- Yes)\n",
    "room_type_reserved: Type of room reserved by the customer. The values are ciphered (encoded) by INN Hotels.\n",
    "lead_time: Number of days between the date of booking and the arrival date\n",
    "arrival_year: Year of arrival date\n",
    "arrival_month: Month of arrival date\n",
    "arrival_date: Date of the month\n",
    "market_segment_type: Market segment designation.\n",
    "repeated_guest: Is the customer a repeated guest? (0 - No, 1- Yes)\n",
    "no_of_previous_cancellations: Number of previous bookings that were canceled by the customer prior to the current booking\n",
    "no_of_previous_bookings_not_canceled: Number of previous bookings not canceled by the customer prior to the current booking\n",
    "avg_price_per_room: Average price per day of the reservation; prices of the rooms are dynamic. (in euros)\n",
    "no_of_special_requests: Total number of special requests made by the customer (e.g. high floor, view from the room, etc)\n",
    "\n",
    "Output:\n",
    "\n",
    "booking_status: Flag indicating if the booking was canceled or not (0 - not cancelled, 1 - cancelled). "
   ]
  },
  {
   "cell_type": "code",
   "execution_count": null,
   "metadata": {},
   "outputs": [],
   "source": []
  }
 ],
 "metadata": {
  "kernelspec": {
   "display_name": "Python 3 (ipykernel)",
   "language": "python",
   "name": "python3"
  },
  "language_info": {
   "codemirror_mode": {
    "name": "ipython",
    "version": 3
   },
   "file_extension": ".py",
   "mimetype": "text/x-python",
   "name": "python",
   "nbconvert_exporter": "python",
   "pygments_lexer": "ipython3",
   "version": "3.9.13"
  }
 },
 "nbformat": 4,
 "nbformat_minor": 2
}
